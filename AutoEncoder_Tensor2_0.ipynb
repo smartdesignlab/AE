{
  "nbformat": 4,
  "nbformat_minor": 0,
  "metadata": {
    "colab": {
      "name": "AutoEncoder_Tensor2.0.ipynb",
      "provenance": []
    },
    "kernelspec": {
      "name": "python3",
      "display_name": "Python 3"
    },
    "accelerator": "TPU"
  },
  "cells": [
    {
      "cell_type": "markdown",
      "metadata": {
        "id": "wHTrq5yJngyX",
        "colab_type": "text"
      },
      "source": [
        "# AutoEncoder in TensorFlow 2.0\n",
        "\n",
        "### 출처 : https://towardsdatascience.com/implementing-an-autoencoder-in-tensorflow-2-0-5e86126e9f7"
      ]
    },
    {
      "cell_type": "markdown",
      "metadata": {
        "id": "okgIYF4qU7e1",
        "colab_type": "text"
      },
      "source": [
        "# Colab Tensorflow 2.0 시작하기"
      ]
    },
    {
      "cell_type": "code",
      "metadata": {
        "id": "ImEQ82YHqdaP",
        "colab_type": "code",
        "outputId": "9428a9e6-b99b-475f-c1e5-f0dce2c9e981",
        "colab": {
          "base_uri": "https://localhost:8080/",
          "height": 35
        }
      },
      "source": [
        "# 런타임 -> 런타임 유형변경 -> 하드웨어 가속도 TPU변경\n",
        "%tensorflow_version 2.x\n",
        "#런타임 -> 런타임 다시시작"
      ],
      "execution_count": 1,
      "outputs": [
        {
          "output_type": "stream",
          "text": [
            "TensorFlow 2.x selected.\n"
          ],
          "name": "stdout"
        }
      ]
    },
    {
      "cell_type": "code",
      "metadata": {
        "id": "v7vG_DMhquUy",
        "colab_type": "code",
        "outputId": "7b58924e-bffd-4d2e-e754-720b341108b9",
        "colab": {
          "base_uri": "https://localhost:8080/",
          "height": 35
        }
      },
      "source": [
        "# tensorlow version 확인\n",
        "import tensorflow\n",
        "print(tensorflow.__version__)"
      ],
      "execution_count": 3,
      "outputs": [
        {
          "output_type": "stream",
          "text": [
            "2.0.0\n"
          ],
          "name": "stdout"
        }
      ]
    },
    {
      "cell_type": "markdown",
      "metadata": {
        "id": "ranE6TgcVAmv",
        "colab_type": "text"
      },
      "source": [
        "# 1. 서브패키지 Import"
      ]
    },
    {
      "cell_type": "code",
      "metadata": {
        "id": "4S0zcpMJjzFY",
        "colab_type": "code",
        "colab": {}
      },
      "source": [
        "from __future__ import absolute_import, division, print_function, unicode_literals\n",
        "\n",
        "import tensorflow as tf\n",
        "import numpy as np"
      ],
      "execution_count": 0,
      "outputs": []
    },
    {
      "cell_type": "markdown",
      "metadata": {
        "id": "N2SK0tLGUzV7",
        "colab_type": "text"
      },
      "source": [
        "# 2. MNIST 데이터 불러오기"
      ]
    },
    {
      "cell_type": "code",
      "metadata": {
        "id": "e6dU-UntCGsw",
        "colab_type": "code",
        "colab": {
          "base_uri": "https://localhost:8080/",
          "height": 53
        },
        "outputId": "1bd1a341-d275-4ae3-8043-2a1d7d5cf2c8"
      },
      "source": [
        "# mnist 데이터 불러오기\n",
        "mnist = tf.keras.datasets.mnist\n",
        "(x_train, _), (x_test, _) = mnist.load_data()"
      ],
      "execution_count": 7,
      "outputs": [
        {
          "output_type": "stream",
          "text": [
            "Downloading data from https://storage.googleapis.com/tensorflow/tf-keras-datasets/mnist.npz\n",
            "11493376/11490434 [==============================] - 0s 0us/step\n"
          ],
          "name": "stdout"
        }
      ]
    },
    {
      "cell_type": "code",
      "metadata": {
        "id": "1cx7en-jAle-",
        "colab_type": "code",
        "colab": {}
      },
      "source": [
        "# 이미지셋 정규화\n",
        "x_train, x_test = x_train / 255.0, x_test / 255.0\n",
        "\n",
        "# 형태를 3차원에서 2차원으로 변경, 첫 번째 인덱스 : 이미지 수, 두 번쨰 인덱스 : 2차원 이미지를 1차원으로 변경 후의 길이\n",
        "x_train = x_train.reshape((len(x_train), np.prod(x_train.shape[1:])))\n",
        "x_test = x_test.reshape((len(x_test), np.prod(x_test.shape[1:])))"
      ],
      "execution_count": 0,
      "outputs": []
    },
    {
      "cell_type": "code",
      "metadata": {
        "id": "pYYEJb-BVV14",
        "colab_type": "code",
        "colab": {}
      },
      "source": [
        "# 하이퍼파라미터 설정\n",
        "BUFFER_SIZE = 60000\n",
        "BATCH_SIZE = 256\n",
        "\n",
        "# 데이터 배치를 만들고 섞어줌\n",
        "train_ds = tf.data.Dataset.from_tensor_slices((x_train)).shuffle(BUFFER_SIZE).batch(BATCH_SIZE)\n",
        "test_ds = tf.data.Dataset.from_tensor_slices((x_test)).batch(BATCH_SIZE)"
      ],
      "execution_count": 0,
      "outputs": []
    },
    {
      "cell_type": "code",
      "metadata": {
        "id": "PfvpJmxoVqUr",
        "colab_type": "code",
        "colab": {
          "base_uri": "https://localhost:8080/",
          "height": 35
        },
        "outputId": "0dae7047-4469-4ef9-8051-8f2c246d25e3"
      },
      "source": [
        "# 데이터 shape 확인\n",
        "x_train.shape, x_test.shape "
      ],
      "execution_count": 10,
      "outputs": [
        {
          "output_type": "execute_result",
          "data": {
            "text/plain": [
              "((60000, 784), (10000, 784))"
            ]
          },
          "metadata": {
            "tags": []
          },
          "execution_count": 10
        }
      ]
    },
    {
      "cell_type": "markdown",
      "metadata": {
        "id": "blgsC5hXVu9a",
        "colab_type": "text"
      },
      "source": [
        "# 3. AutoEncoder Modeling"
      ]
    },
    {
      "cell_type": "code",
      "metadata": {
        "id": "n5PsAKNFV2wy",
        "colab_type": "code",
        "colab": {}
      },
      "source": [
        "from tensorflow.keras import layers\n",
        "from tensorflow.keras import Model\n",
        "\n",
        "def AE():\n",
        "\n",
        "    ## Encoder 구간\n",
        "    model = tf.keras.Sequential()\n",
        "    model.add(layers.Dense(256, input_shape=(28*28,)))  # 입력계층\n",
        "    model.add(layers.Activation('relu'))      \n",
        "\n",
        "    model.add(layers.Dense(128))                        # 은닉계층\n",
        "    model.add(layers.Activation('relu'))\n",
        "\n",
        "    ## Decoder 구간\n",
        "    model.add(layers.Dense(256))                        # 은닉계층\n",
        "    model.add(layers.Activation('relu'))\n",
        "\n",
        "    model.add(layers.Dense(28*28))                      # 출력계층\n",
        "    model.add(layers.Activation('sigmoid'))\n",
        "\n",
        "    return model"
      ],
      "execution_count": 0,
      "outputs": []
    },
    {
      "cell_type": "code",
      "metadata": {
        "id": "JLUJgPrkV7l4",
        "colab_type": "code",
        "colab": {}
      },
      "source": [
        "# model 함수 실행\n",
        "model = AE()"
      ],
      "execution_count": 0,
      "outputs": []
    },
    {
      "cell_type": "markdown",
      "metadata": {
        "id": "9AR8W4jA_wxI",
        "colab_type": "text"
      },
      "source": [
        "# 4. Loss, optimizer 설정\n"
      ]
    },
    {
      "cell_type": "code",
      "metadata": {
        "id": "VrfpRvaPWDHc",
        "colab_type": "code",
        "colab": {}
      },
      "source": [
        "loss_object = tf.keras.losses.MeanSquaredError()  # Loss는 MSE\n",
        "optimizer = tf.keras.optimizers.Adam()            # optimizer는 adam\n",
        "\n",
        "# 변수 설정\n",
        "train_loss = tf.keras.metrics.Mean(name='train_loss')\n",
        "train_accuracy = tf.keras.metrics.Accuracy(name='train_accuracy')\n",
        "test_loss = tf.keras.metrics.Mean(name='test_loss')\n",
        "test_accuracy = tf.keras.metrics.Accuracy(name='test_accuracy')"
      ],
      "execution_count": 0,
      "outputs": []
    },
    {
      "cell_type": "markdown",
      "metadata": {
        "id": "aPYTIhH6WQwK",
        "colab_type": "text"
      },
      "source": [
        "# 5. 모델 학습"
      ]
    },
    {
      "cell_type": "code",
      "metadata": {
        "id": "zBr0RvtBWrEU",
        "colab_type": "code",
        "colab": {}
      },
      "source": [
        "# `tf.function` 이 데코레이터는 함수를 \"컴파일\" 한다.\n",
        "@tf.function\n",
        "def train_step(images):\n",
        "  with tf.GradientTape() as tape:\n",
        "    predictions = model(images)                 # AE 모델에 image 학습\n",
        "    loss = loss_object(images, predictions)     # loss값 구함\n",
        "\n",
        "  # tape에 기록하며 미분이 실행됨\n",
        "  gradients = tape.gradient(loss, model.trainable_variables)\n",
        "  optimizer.apply_gradients(zip(gradients, model.trainable_variables))\n",
        "\n",
        "  train_loss(loss)\n",
        "  train_accuracy(images, predictions)\n",
        "\n",
        "@tf.function\n",
        "def test_step(images):\n",
        "  predictions = model(images)                   # AE 모델에 image 학습\n",
        "  t_loss = loss_object(images, predictions)     # loss값 구함\n",
        "  \n",
        "  test_loss(t_loss)\n",
        "  test_accuracy(images, predictions)"
      ],
      "execution_count": 0,
      "outputs": []
    },
    {
      "cell_type": "code",
      "metadata": {
        "id": "qyUcRTEkWbuX",
        "colab_type": "code",
        "colab": {}
      },
      "source": [
        "# train 함수 정의 (텐서플로우 2.0에서는 직접 함수를 만들어야함)\n",
        "def train(train_ds, test_ds, epochs):\n",
        "  for epoch in range(epochs):      # 매 epoch 마다 학습이 진행된다\n",
        "    for images in train_ds:\n",
        "      train_step(images)           # train 이미지 학습\n",
        "\n",
        "    for test_images in test_ds:\n",
        "      test_step(test_images)       # test 이미지 학습 (validation으로 사용됨)\n",
        "\n",
        "    # print 보여주기 설정\n",
        "    template = 'epoch: {}, loss: {}, acc: {}, val_loss: {}, val_acc: {}'\n",
        "    print (template.format(epoch+1,       \n",
        "                          train_loss.result(),\n",
        "                          train_accuracy.result()*100,\n",
        "                          test_loss.result(),\n",
        "                          test_accuracy.result()*100))"
      ],
      "execution_count": 0,
      "outputs": []
    },
    {
      "cell_type": "code",
      "metadata": {
        "id": "mOGjuBxRWUny",
        "colab_type": "code",
        "colab": {
          "base_uri": "https://localhost:8080/",
          "height": 107
        },
        "outputId": "02e7ffad-7efc-47a4-ae51-b4701ae18ccc"
      },
      "source": [
        "# train 함수 실행, trian data, val data, epoch 순으로 작성\n",
        "train(train_ds, test_ds, 5) "
      ],
      "execution_count": 22,
      "outputs": [
        {
          "output_type": "stream",
          "text": [
            "epoch: 1, loss: 0.020802021026611328, acc: 28.37020492553711, val_loss: 0.015082525089383125, val_acc: 30.577049255371094\n",
            "epoch: 2, loss: 0.019104819744825363, acc: 27.779844284057617, val_loss: 0.014138739556074142, val_acc: 29.568321228027344\n",
            "epoch: 3, loss: 0.017726143822073936, acc: 27.206867218017578, val_loss: 0.013306441716849804, val_acc: 28.947099685668945\n",
            "epoch: 4, loss: 0.016592741012573242, acc: 26.65804100036621, val_loss: 0.012594780884683132, val_acc: 28.26712417602539\n",
            "epoch: 5, loss: 0.01563206873834133, acc: 26.131752014160156, val_loss: 0.011994976550340652, val_acc: 27.673828125\n"
          ],
          "name": "stdout"
        }
      ]
    },
    {
      "cell_type": "markdown",
      "metadata": {
        "id": "O9NHRH_tXFcx",
        "colab_type": "text"
      },
      "source": [
        "# 5. Visualization"
      ]
    },
    {
      "cell_type": "code",
      "metadata": {
        "id": "sXPNB-RkXEcp",
        "colab_type": "code",
        "colab": {}
      },
      "source": [
        "import matplotlib.pyplot as plt\n",
        "import numpy as np\n",
        "\n",
        "sample_size = 10                        # 보여줄 sample 갯수 설정\n",
        "prediction = model.predict(x_test)      # test 데이터로 예측하기(predict 함수 사용)"
      ],
      "execution_count": 0,
      "outputs": []
    },
    {
      "cell_type": "code",
      "metadata": {
        "id": "Ct1VAWHRXMq_",
        "colab_type": "code",
        "colab": {
          "base_uri": "https://localhost:8080/",
          "height": 137
        },
        "outputId": "c7843844-bb66-4c8f-c0dc-9bee8a1ce41b"
      },
      "source": [
        "# plot 하기\n",
        "fig, ax = plt.subplots(2, sample_size, figsize=(sample_size, 2))\n",
        "for i in range(sample_size):\n",
        "  org_img = x_test[i].reshape(28,28)\n",
        "  rec_img = prediction[i].reshape(28,28)\n",
        "  \n",
        "  ax[0][i].set_axis_off()\n",
        "  ax[1][i].set_axis_off()\n",
        "  \n",
        "  ax[0][i].imshow(org_img)\n",
        "  ax[1][i].imshow(rec_img)\n",
        "\n",
        "plt.show()"
      ],
      "execution_count": 26,
      "outputs": [
        {
          "output_type": "display_data",
          "data": {
            "image/png": "[encoded data removed]",
            "text/plain": [
              "<Figure size 720x144 with 20 Axes>"
            ]
          },
          "metadata": {
            "tags": []
          }
        }
      ]
    }
  ]
}