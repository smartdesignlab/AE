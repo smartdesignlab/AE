{
 "cells": [
  {
   "cell_type": "markdown",
   "metadata": {},
   "source": [
    "# 비지도학습 Autoencoder\n",
    "※ 출처 : 골빈해커의 3분 딥러닝 텐서플로맛, 김진중 지음, 한빛미디어\n",
    "## 1. 라이브러리 임포트"
   ]
  },
  {
   "cell_type": "code",
   "execution_count": 1,
   "metadata": {},
   "outputs": [
    {
     "name": "stderr",
     "output_type": "stream",
     "text": [
      "WARNING: Logging before flag parsing goes to stderr.\n",
      "W0801 13:27:51.968402 140564238845696 deprecation.py:323] From <ipython-input-1-e31785d46748>:8: read_data_sets (from tensorflow.contrib.learn.python.learn.datasets.mnist) is deprecated and will be removed in a future version.\n",
      "Instructions for updating:\n",
      "Please use alternatives such as official/mnist/dataset.py from tensorflow/models.\n",
      "W0801 13:27:51.969676 140564238845696 deprecation.py:323] From /usr/local/lib/python3.5/dist-packages/tensorflow/contrib/learn/python/learn/datasets/mnist.py:260: maybe_download (from tensorflow.contrib.learn.python.learn.datasets.base) is deprecated and will be removed in a future version.\n",
      "Instructions for updating:\n",
      "Please write your own downloading logic.\n",
      "W0801 13:27:51.970586 140564238845696 deprecation.py:323] From /usr/local/lib/python3.5/dist-packages/tensorflow/contrib/learn/python/learn/datasets/mnist.py:262: extract_images (from tensorflow.contrib.learn.python.learn.datasets.mnist) is deprecated and will be removed in a future version.\n",
      "Instructions for updating:\n",
      "Please use tf.data to implement this functionality.\n",
      "W0801 13:27:52.147209 140564238845696 deprecation.py:323] From /usr/local/lib/python3.5/dist-packages/tensorflow/contrib/learn/python/learn/datasets/mnist.py:267: extract_labels (from tensorflow.contrib.learn.python.learn.datasets.mnist) is deprecated and will be removed in a future version.\n",
      "Instructions for updating:\n",
      "Please use tf.data to implement this functionality.\n",
      "W0801 13:27:52.149463 140564238845696 deprecation.py:323] From /usr/local/lib/python3.5/dist-packages/tensorflow/contrib/learn/python/learn/datasets/mnist.py:110: dense_to_one_hot (from tensorflow.contrib.learn.python.learn.datasets.mnist) is deprecated and will be removed in a future version.\n",
      "Instructions for updating:\n",
      "Please use tf.one_hot on tensors.\n"
     ]
    },
    {
     "name": "stdout",
     "output_type": "stream",
     "text": [
      "Extracting MNIST_data/train-images-idx3-ubyte.gz\n",
      "Extracting MNIST_data/train-labels-idx1-ubyte.gz\n",
      "Extracting MNIST_data/t10k-images-idx3-ubyte.gz\n"
     ]
    },
    {
     "name": "stderr",
     "output_type": "stream",
     "text": [
      "W0801 13:27:52.184503 140564238845696 deprecation.py:323] From /usr/local/lib/python3.5/dist-packages/tensorflow/contrib/learn/python/learn/datasets/mnist.py:290: DataSet.__init__ (from tensorflow.contrib.learn.python.learn.datasets.mnist) is deprecated and will be removed in a future version.\n",
      "Instructions for updating:\n",
      "Please use alternatives such as official/mnist/dataset.py from tensorflow/models.\n"
     ]
    },
    {
     "name": "stdout",
     "output_type": "stream",
     "text": [
      "Extracting MNIST_data/t10k-labels-idx1-ubyte.gz\n"
     ]
    }
   ],
   "source": [
    "#텐서플로, numpy, matplotlib의 라이브러리 임포트\n",
    "import tensorflow as tf\n",
    "import numpy as np\n",
    "import matplotlib.pyplot as plt\n",
    "\n",
    "#MNIST 모듈 임포트\n",
    "from tensorflow.examples.tutorials.mnist import input_data\n",
    "mnist = input_data.read_data_sets(\"MNIST_data/\", one_hot=True)"
   ]
  },
  {
   "cell_type": "markdown",
   "metadata": {},
   "source": [
    "## 2. 옵션설정 \n"
    "하이퍼파마리터로 사용할 옵션들을 따로 빼네어 코드를 구조화함\n"
   ]
  },
  {
   "cell_type": "code",
   "execution_count": 2,
   "metadata": {},
   "outputs": [],
   "source": [
    "learning_rate = 0.01 #최적화 함수에서 사용할 학습률\n",
    "training_epoch = 20  #전체 데이터를 학습할 총 횟수\n",
    "batch_size = 100     #미니배치로 한번에 학습할 데이터(이미지)의 갯수\n",
    "n_hidden = 256       #은닉층의 뉴런 개수\n",
    "n_input = 28*28      #이미지 크기 28*28 = 784"
   ]
  },
  {
   "cell_type": "markdown",
   "metadata": {},
   "source": [
    "## 3. 모델구성"
   ]
  },
  {
   "cell_type": "code",
   "execution_count": 3,
   "metadata": {},
   "outputs": [],
   "source": [
    "#X의 플레이스 홀더를 설정, 이 모델은 비지도 학습으로 Y값이 없음\n",
    "X = tf.placeholder(tf.float32, [None, n_input])\n",
    "\n",
    "#INCODER 인코더\n",
    "W_encode = tf.Variable(tf.random_normal([n_input, n_hidden]))  #n_hidden개의 뉴런을 가진 은닉층 만듬\n",
    "b_encode = tf.Variable(tf.random_normal([n_hidden])) #가중치와 편향변수를 원하는 뉴런만큼 설정 \n",
    "encoder = tf.nn.sigmoid(tf.add(tf.matmul(X,W_encode),b_encode)) #sigmoid 활성화 함수 적용\n",
    "#이때 중요한것은 입력값인 n_input보다 n_hidden값이 더 작다는 점: 입력값을 압축하고 노이즈 제거하여 특징을 찾게됨\n",
    "\n",
    "#DECODER 디코더 (n_input과 n_hidden을 인코더와 반대로 입력)\n",
    "W_decode = tf.Variable(tf.random_normal([n_hidden, n_input]))\n",
    "b_decode = tf.Variable(tf.random_normal([n_input]))\n",
    "decoder = tf.nn.sigmoid(tf.add(tf.matmul(encoder,W_decode),b_decode)) #입력값을 은닉층의 크기로, 출력값을 입력층의 크기로"
   ]
  },
  {
   "cell_type": "markdown",
   "metadata": {},
   "source": [
    "## 4. 모델학습\n",
    "\n",
    "### 손실함수 공식\n",
    "손실함수 : 가중치들을 최적화 하기 위해, 출력값과 입력값이 가장 비슷하게 만들어 입력값의 특징을 알 수 있도록 함\n",
    "\n",
    "\\begin{align}\n",
    "\\frac{1}{m}\\sum_i^m{(t_i-y_i)}^2\n",
    "\\end{align}"
   ]
  },
  {
   "cell_type": "code",
   "execution_count": 5,
   "metadata": {},
   "outputs": [
    {
     "name": "stdout",
     "output_type": "stream",
     "text": [
      "Epoct: 0001 Avg.cost =  0.1968\n",
      "Epoct: 0002 Avg.cost =  0.0538\n",
      "Epoct: 0003 Avg.cost =  0.0431\n",
      "Epoct: 0004 Avg.cost =  0.0381\n",
      "Epoct: 0005 Avg.cost =  0.0343\n",
      "Epoct: 0006 Avg.cost =  0.0317\n",
      "Epoct: 0007 Avg.cost =  0.0293\n",
      "Epoct: 0008 Avg.cost =  0.0282\n",
      "Epoct: 0009 Avg.cost =  0.0278\n",
      "Epoct: 0010 Avg.cost =  0.0274\n",
      "Epoct: 0011 Avg.cost =  0.0259\n",
      "Epoct: 0012 Avg.cost =  0.0251\n",
      "Epoct: 0013 Avg.cost =  0.0248\n",
      "Epoct: 0014 Avg.cost =  0.0246\n",
      "Epoct: 0015 Avg.cost =  0.0244\n",
      "Epoct: 0016 Avg.cost =  0.0240\n",
      "Epoct: 0017 Avg.cost =  0.0236\n",
      "Epoct: 0018 Avg.cost =  0.0234\n",
      "Epoct: 0019 Avg.cost =  0.0233\n",
      "Epoct: 0020 Avg.cost =  0.0231\n",
      "최적화 완료!\n"
     ]
    }
   ],
   "source": [
    "#손실값(두 값의 거리차이) = 입력값 X(평가하기 위한 실측값) - 디코더의 결과값\n",
    "cost = tf.reduce_mean(tf.pow(X-decoder,2))\n",
    "\n",
    "#최적화 함수 RMSPropOptimizer\n",
    "optimizer = tf.train.RMSPropOptimizer(learning_rate).minimize(cost)\n",
    "\n",
    "#학습진행\n",
    "init = tf.global_variables_initializer() #변수 초기화\n",
    "sess = tf.Session() #Session Open\n",
    "sess.run(init) #텐서플로로 변수들 초기화 완료\n",
    "\n",
    "total_batch = int(mnist.train.num_examples / batch_size) #배치 변수\n",
    "\n",
    "for epoch in range(training_epoch): #train 데이터 엣으로부터 전체 배치 불러옴\n",
    "    total_cost = 0\n",
    "    \n",
    "    for i in range(total_batch): #모든 배치들에 대하여 최적화를 수행 \n",
    "        batch_xs, batch_ys = mnist.train.next_batch(batch_size)\n",
    "        _, cost_val = sess.run([optimizer, cost], feed_dict={X:batch_xs})\n",
    "        total_cost += cost_val\n",
    "        \n",
    "    print('Epoct:', '%04d' % (epoch + 1), 'Avg.cost = ', '{:.4f}'.format(total_cost/total_batch)) #Epoct별 손실값 보여줌\n",
    "\n",
    "print('최적화 완료!')"
   ]
  },
  {
   "cell_type": "markdown",
   "metadata": {},
   "source": [
    "## 5. 결과확인"
    "디코더로 생성해낸 결과를 직관적인 방법으로 확인하는 방법, matplotlib을 이용해 이미지 출력/n",
   ]
  },
  {
   "cell_type": "code",
   "execution_count": 6,
   "metadata": {},
   "outputs": [
    {
     "data": {
      "image/png": "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\n",
      "text/plain": [
       "<Figure size 720x144 with 20 Axes>"
      ]
     },
     "metadata": {
      "needs_background": "light"
     },
     "output_type": "display_data"
    }
   ],
   "source": [
    "#10개의 확인 이미지 추출\n",
    "sample_size = 10\n",
    "samples = sess.run(decoder, feed_dict={X:mnist.test.images[:sample_size]}) #디코더로 생성해낸 결과 확인\n",
    "\n",
    "fig, ax = plt.subplots(2, sample_size, figsize=(sample_size, 2)) #이미지 2줄로 보여줄수 있도록 조정\n",
    "\n",
    "for i in range(sample_size):\n",
    "    ax[0][i].set_axis_off() #입력값의 이미지\n",
    "    ax[1][i].set_axis_off() #신경망으로 생성된 이미지\n",
    "    ax[0][i].imshow(np.reshape(mnist.test.images[i], (28,28))) #imshow : 이미지 출력함수\n",
    "    ax[1][i].imshow(np.reshape(samples[i], (28,28))) #imshow : 이미지 출력함수\n",
    "\n",
    "plt.show()"
   ]
  },
  {
   "cell_type": "code",
   "execution_count": null,
   "metadata": {},
   "outputs": [],
   "source": []
  }
 ],
 "metadata": {
  "kernelspec": {
   "display_name": "Python 3",
   "language": "python",
   "name": "python3"
  },
  "language_info": {
   "codemirror_mode": {
    "name": "ipython",
    "version": 3
   },
   "file_extension": ".py",
   "mimetype": "text/x-python",
   "name": "python",
   "nbconvert_exporter": "python",
   "pygments_lexer": "ipython3",
   "version": "3.5.2"
  }
 },
 "nbformat": 4,
 "nbformat_minor": 2
}
