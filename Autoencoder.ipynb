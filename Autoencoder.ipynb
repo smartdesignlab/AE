{
 "cells": [
  {
   "cell_type": "markdown",
   "metadata": {},
   "source": [
    "# 비지도학습 Autoencoder\n",
    "※ 출처 : 골빈해커의 3분딥러닝 텐서플로맛, 김진중 지음, 한빛미디어\n",
    "![title](autoencoder4.png)\n",
    "\n",
    "## 1. 라이브러리 임포트"
   ]
  },
  {
   "cell_type": "code",
   "execution_count": 1,
   "metadata": {},
   "outputs": [
    {
     "name": "stderr",
     "output_type": "stream",
     "text": [
      "WARNING: Logging before flag parsing goes to stderr.\n",
      "W0808 19:58:55.957542 140689095468800 deprecation.py:323] From <ipython-input-1-e31785d46748>:8: read_data_sets (from tensorflow.contrib.learn.python.learn.datasets.mnist) is deprecated and will be removed in a future version.\n",
      "Instructions for updating:\n",
      "Please use alternatives such as official/mnist/dataset.py from tensorflow/models.\n",
      "W0808 19:58:55.958784 140689095468800 deprecation.py:323] From /usr/local/lib/python3.5/dist-packages/tensorflow/contrib/learn/python/learn/datasets/mnist.py:260: maybe_download (from tensorflow.contrib.learn.python.learn.datasets.base) is deprecated and will be removed in a future version.\n",
      "Instructions for updating:\n",
      "Please write your own downloading logic.\n",
      "W0808 19:58:55.959751 140689095468800 deprecation.py:323] From /usr/local/lib/python3.5/dist-packages/tensorflow/contrib/learn/python/learn/datasets/mnist.py:262: extract_images (from tensorflow.contrib.learn.python.learn.datasets.mnist) is deprecated and will be removed in a future version.\n",
      "Instructions for updating:\n",
      "Please use tf.data to implement this functionality.\n",
      "W0808 19:58:56.136265 140689095468800 deprecation.py:323] From /usr/local/lib/python3.5/dist-packages/tensorflow/contrib/learn/python/learn/datasets/mnist.py:267: extract_labels (from tensorflow.contrib.learn.python.learn.datasets.mnist) is deprecated and will be removed in a future version.\n",
      "Instructions for updating:\n",
      "Please use tf.data to implement this functionality.\n",
      "W0808 19:58:56.138405 140689095468800 deprecation.py:323] From /usr/local/lib/python3.5/dist-packages/tensorflow/contrib/learn/python/learn/datasets/mnist.py:110: dense_to_one_hot (from tensorflow.contrib.learn.python.learn.datasets.mnist) is deprecated and will be removed in a future version.\n",
      "Instructions for updating:\n",
      "Please use tf.one_hot on tensors.\n"
     ]
    },
    {
     "name": "stdout",
     "output_type": "stream",
     "text": [
      "Extracting MNIST_data/train-images-idx3-ubyte.gz\n",
      "Extracting MNIST_data/train-labels-idx1-ubyte.gz\n",
      "Extracting MNIST_data/t10k-images-idx3-ubyte.gz\n"
     ]
    },
    {
     "name": "stderr",
     "output_type": "stream",
     "text": [
      "W0808 19:58:56.174224 140689095468800 deprecation.py:323] From /usr/local/lib/python3.5/dist-packages/tensorflow/contrib/learn/python/learn/datasets/mnist.py:290: DataSet.__init__ (from tensorflow.contrib.learn.python.learn.datasets.mnist) is deprecated and will be removed in a future version.\n",
      "Instructions for updating:\n",
      "Please use alternatives such as official/mnist/dataset.py from tensorflow/models.\n"
     ]
    },
    {
     "name": "stdout",
     "output_type": "stream",
     "text": [
      "Extracting MNIST_data/t10k-labels-idx1-ubyte.gz\n"
     ]
    }
   ],
   "source": [
    "#텐서플로, numpy, matplotlib의 라이브러리 임포트\n",
    "import tensorflow as tf\n",
    "import numpy as np\n",
    "import matplotlib.pyplot as plt\n",
    "\n",
    "#MNIST 모듈 임포트\n",
    "from tensorflow.examples.tutorials.mnist import input_data\n",
    "mnist = input_data.read_data_sets(\"MNIST_data/\", one_hot=True)"
   ]
  },
  {
   "cell_type": "markdown",
   "metadata": {},
   "source": [
    "## 2. 옵션설정 \n",
    "하이퍼마라미터로 사용할 옵션들을 따로 빼네어 코드를 구조화함"
   ]
  },
  {
   "cell_type": "code",
   "execution_count": 2,
   "metadata": {},
   "outputs": [],
   "source": [
    "learning_rate = 0.01 #최적화 함수에서 사용할 학습률\n",
    "training_epoch = 20  #전체 데이터를 학습할 총 횟수\n",
    "batch_size = 100     #미니배치로 한번에 학습할 데이터(이미지)의 갯수\n",
    "n_hidden = 256       #은닉층의 뉴런 개수\n",
    "n_input = 28*28      #이미지 크기 28*28 = 784"
   ]
  },
  {
   "cell_type": "markdown",
   "metadata": {},
   "source": [
    "## 3. 모델구성"
   ]
  },
  {
   "cell_type": "code",
   "execution_count": 3,
   "metadata": {},
   "outputs": [],
   "source": [
    "# X라는 플레이스 홀더를 설정\n",
    "X = tf.placeholder(tf.float32, [None, n_input])\n",
    "\n",
    "# ENCODER 인코더, n_hidden개의 뉴런을 가진 은닉층 만듬\n",
    "W_encode = tf.Variable(tf.random_normal([n_input, n_hidden]))  #가중치 \n",
    "b_encode = tf.Variable(tf.random_normal([n_hidden])) #편향변수\n",
    "encoder = tf.nn.sigmoid(tf.add(tf.matmul(X,W_encode),b_encode)) #sigmoid 활성화 함수 적용\n",
    "\n",
    "# DECODER 디코더 (n_input과 n_hidden을 인코더와 반대로 입력)\n",
    "W_decode = tf.Variable(tf.random_normal([n_hidden, n_input])) #가중치\n",
    "b_decode = tf.Variable(tf.random_normal([n_input])) #편향변수 \n",
    "decoder = tf.nn.sigmoid(tf.add(tf.matmul(encoder,W_decode),b_decode)) # 입력값을 은닉층의 크기로, 출력값을 입력층의 크기로 "
   ]
  },
  {
   "cell_type": "markdown",
   "metadata": {},
   "source": [
    "## 4. 모델학습\n",
    "\n",
    "### 손실함수\n",
    "가중치들을 최정화하기 위해, 출력값과 입력값이 가장 비슷하게 만들어 입력값의 특징을 알 수 있도록 함\n",
    "\n",
    "\\begin{align}\n",
    "\\frac{1}{m}\\sum_i^m{(x_i-y_i)}^2\n",
    "\\end{align}"
   ]
  },
  {
   "cell_type": "code",
   "execution_count": 4,
   "metadata": {},
   "outputs": [
    {
     "name": "stderr",
     "output_type": "stream",
     "text": [
      "W0808 19:59:04.894197 140689095468800 deprecation.py:323] From /usr/local/lib/python3.5/dist-packages/tensorflow/python/ops/math_grad.py:1205: add_dispatch_support.<locals>.wrapper (from tensorflow.python.ops.array_ops) is deprecated and will be removed in a future version.\n",
      "Instructions for updating:\n",
      "Use tf.where in 2.0, which has the same broadcast rule as np.where\n",
      "W0808 19:59:04.935269 140689095468800 deprecation.py:506] From /usr/local/lib/python3.5/dist-packages/tensorflow/python/training/rmsprop.py:119: calling Ones.__init__ (from tensorflow.python.ops.init_ops) with dtype is deprecated and will be removed in a future version.\n",
      "Instructions for updating:\n",
      "Call initializer instance with the dtype argument instead of passing it to the constructor\n"
     ]
    },
    {
     "name": "stdout",
     "output_type": "stream",
     "text": [
      "Epoct: 0001 Avg.cost =  0.2009\n",
      "Epoct: 0002 Avg.cost =  0.0636\n",
      "Epoct: 0003 Avg.cost =  0.0526\n",
      "Epoct: 0004 Avg.cost =  0.0452\n",
      "Epoct: 0005 Avg.cost =  0.0400\n",
      "Epoct: 0006 Avg.cost =  0.0372\n",
      "Epoct: 0007 Avg.cost =  0.0360\n",
      "Epoct: 0008 Avg.cost =  0.0341\n",
      "Epoct: 0009 Avg.cost =  0.0330\n",
      "Epoct: 0010 Avg.cost =  0.0323\n",
      "Epoct: 0011 Avg.cost =  0.0316\n",
      "Epoct: 0012 Avg.cost =  0.0313\n",
      "Epoct: 0013 Avg.cost =  0.0298\n",
      "Epoct: 0014 Avg.cost =  0.0296\n",
      "Epoct: 0015 Avg.cost =  0.0294\n",
      "Epoct: 0016 Avg.cost =  0.0291\n",
      "Epoct: 0017 Avg.cost =  0.0285\n",
      "Epoct: 0018 Avg.cost =  0.0279\n",
      "Epoct: 0019 Avg.cost =  0.0277\n",
      "Epoct: 0020 Avg.cost =  0.0276\n",
      "최적화 완료!\n"
     ]
    }
   ],
   "source": [
    "#손실함수(두 값의 거리차이) = X(평가하기 위한 실측값) - 디코더의 결과값\n",
    "cost = tf.reduce_mean(tf.pow(X-decoder,2))\n",
    "\n",
    "#최적화 함수 RMSPropOptimizer로 cost를 최소화 함\n",
    "optimizer = tf.train.RMSPropOptimizer(learning_rate).minimize(cost)\n",
    "\n",
    "#학습진행\n",
    "init = tf.global_variables_initializer() #변수 초기화\n",
    "sess = tf.Session() # Session 오픈\n",
    "sess.run(init) # 텐서플로우로 변수들 초기화 완료(학습 진행 준비 완료)\n",
    "\n",
    "total_batch = int(mnist.train.num_examples / batch_size) #배치 변수\n",
    "\n",
    "for epoch in range(training_epoch): #train 테이터 셋으로 부터 전체 배치를 불러옴\n",
    "    total_cost = 0\n",
    "    \n",
    "    for i in range(total_batch): #모든 배치들에 대하여 최적화 수행\n",
    "        batch_xs, batch_ys = mnist.train.next_batch(batch_size) # 배치사이즈에 맞게 x, y값 생성\n",
    "        _, cost_val = sess.run([optimizer, cost], feed_dict={X:batch_xs}) # X값(이미지데이터)를 통해 최적화 진행\n",
    "        total_cost += cost_val \n",
    "        \n",
    "    print('Epoct:', '%04d' % (epoch + 1), 'Avg.cost = ', '{:.4f}'.format(total_cost/total_batch)) # Epoct 별 cost 보여줌\n",
    "\n",
    "print('최적화 완료!')"
   ]
  },
  {
   "cell_type": "markdown",
   "metadata": {},
   "source": [
    "## 5. 결과확인\n",
    "디코더로 생성해낸 결과를 직관적인 방법으로 확인하는 것, matplotlib을 이용해 이미지 출력"
   ]
  },
  {
   "cell_type": "code",
   "execution_count": 5,
   "metadata": {},
   "outputs": [
    {
     "data": {
      "image/png": "[encoded data removed]",
      "text/plain": [
       "<Figure size 720x144 with 20 Axes>"
      ]
     },
     "metadata": {
      "needs_background": "light"
     },
     "output_type": "display_data"
    }
   ],
   "source": [
    "#10개의 확인 이미지 추출\n",
    "sample_size = 10\n",
    "samples = sess.run(decoder, feed_dict={X:mnist.test.images[:sample_size]}) # 디코더로 생성해낸 결과\n",
    "\n",
    "fig, ax = plt.subplots(2, sample_size, figsize=(sample_size, 2)) # 이미지를 2줄로 보여줄 수 있도록 셋팅\n",
    "\n",
    "for i in range(sample_size):\n",
    "    ax[0][i].set_axis_off() # 입력된 이미지\n",
    "    ax[1][i].set_axis_off() # 생성된 이미지(출력값)\n",
    "    ax[0][i].imshow(np.reshape(mnist.test.images[i], (28,28))) #imshow : 이미지 출력함수\n",
    "    ax[1][i].imshow(np.reshape(samples[i], (28,28)))\n",
    "\n",
    "plt.show()"
   ]
  },
  {
   "cell_type": "code",
   "execution_count": null,
   "metadata": {},
   "outputs": [],
   "source": []
  }
 ],
 "metadata": {
  "kernelspec": {
   "display_name": "Python 3",
   "language": "python",
   "name": "python3"
  },
  "language_info": {
   "codemirror_mode": {
    "name": "ipython",
    "version": 3
   },
   "file_extension": ".py",
   "mimetype": "text/x-python",
   "name": "python",
   "nbconvert_exporter": "python",
   "pygments_lexer": "ipython3",
   "version": "3.5.2"
  }
 },
 "nbformat": 4,
 "nbformat_minor": 2
}
