{
 "cells": [
  {
   "cell_type": "markdown",
   "metadata": {},
   "source": [
    "# AE를 이용한 이상치검출\n",
    "\n",
    "## 1. 라이브러리 임포트"
   ]
  },
  {
   "cell_type": "code",
   "execution_count": 1,
   "metadata": {},
   "outputs": [
    {
     "name": "stderr",
     "output_type": "stream",
     "text": [
      "WARNING: Logging before flag parsing goes to stderr.\n",
      "W0801 15:29:49.180400 140091356112640 deprecation.py:323] From <ipython-input-1-e31785d46748>:8: read_data_sets (from tensorflow.contrib.learn.python.learn.datasets.mnist) is deprecated and will be removed in a future version.\n",
      "Instructions for updating:\n",
      "Please use alternatives such as official/mnist/dataset.py from tensorflow/models.\n",
      "W0801 15:29:49.181682 140091356112640 deprecation.py:323] From /usr/local/lib/python3.5/dist-packages/tensorflow/contrib/learn/python/learn/datasets/mnist.py:260: maybe_download (from tensorflow.contrib.learn.python.learn.datasets.base) is deprecated and will be removed in a future version.\n",
      "Instructions for updating:\n",
      "Please write your own downloading logic.\n",
      "W0801 15:29:49.182613 140091356112640 deprecation.py:323] From /usr/local/lib/python3.5/dist-packages/tensorflow/contrib/learn/python/learn/datasets/mnist.py:262: extract_images (from tensorflow.contrib.learn.python.learn.datasets.mnist) is deprecated and will be removed in a future version.\n",
      "Instructions for updating:\n",
      "Please use tf.data to implement this functionality.\n",
      "W0801 15:29:49.381712 140091356112640 deprecation.py:323] From /usr/local/lib/python3.5/dist-packages/tensorflow/contrib/learn/python/learn/datasets/mnist.py:267: extract_labels (from tensorflow.contrib.learn.python.learn.datasets.mnist) is deprecated and will be removed in a future version.\n",
      "Instructions for updating:\n",
      "Please use tf.data to implement this functionality.\n"
     ]
    },
    {
     "name": "stdout",
     "output_type": "stream",
     "text": [
      "Extracting MNIST_data/train-images-idx3-ubyte.gz\n",
      "Extracting MNIST_data/train-labels-idx1-ubyte.gz\n"
     ]
    },
    {
     "name": "stderr",
     "output_type": "stream",
     "text": [
      "W0801 15:29:49.384431 140091356112640 deprecation.py:323] From /usr/local/lib/python3.5/dist-packages/tensorflow/contrib/learn/python/learn/datasets/mnist.py:110: dense_to_one_hot (from tensorflow.contrib.learn.python.learn.datasets.mnist) is deprecated and will be removed in a future version.\n",
      "Instructions for updating:\n",
      "Please use tf.one_hot on tensors.\n",
      "W0801 15:29:49.426803 140091356112640 deprecation.py:323] From /usr/local/lib/python3.5/dist-packages/tensorflow/contrib/learn/python/learn/datasets/mnist.py:290: DataSet.__init__ (from tensorflow.contrib.learn.python.learn.datasets.mnist) is deprecated and will be removed in a future version.\n",
      "Instructions for updating:\n",
      "Please use alternatives such as official/mnist/dataset.py from tensorflow/models.\n"
     ]
    },
    {
     "name": "stdout",
     "output_type": "stream",
     "text": [
      "Extracting MNIST_data/t10k-images-idx3-ubyte.gz\n",
      "Extracting MNIST_data/t10k-labels-idx1-ubyte.gz\n"
     ]
    }
   ],
   "source": [
    "#텐서플로, numpy, matplotlib의 라이브러리 임포트\n",
    "import tensorflow as tf\n",
    "import numpy as np\n",
    "import matplotlib.pyplot as plt\n",
    "\n",
    "#MNIST 모듈 임포트\n",
    "from tensorflow.examples.tutorials.mnist import input_data\n",
    "mnist = input_data.read_data_sets(\"MNIST_data/\", one_hot=True)"
   ]
  },
  {
   "cell_type": "markdown",
   "metadata": {},
   "source": [
    "## 2. Mnist train/test 분류\n",
    "### trian 파일은 1,2,3,4,5,7의 숫자 그림으로 구성 (※6,8,9는 동그란 모양이 있어 0의 학습에 도움이 되기에 제외)\n",
    "### test 파일은 0만을 두어 학습된 데이터에서 다른 값(0)이 들어갔을 경우 cost값을 확인하여 이상치를 검출할 수 있다."
   ]
  },
  {
   "cell_type": "code",
   "execution_count": 2,
   "metadata": {},
   "outputs": [
    {
     "name": "stdout",
     "output_type": "stream",
     "text": [
      "The number of training images : 33296, shape : (33296, 784)\n",
      "The number of testing images : 980, shape : (980, 784)\n"
     ]
    }
   ],
   "source": [
    "train_idx = ((np.argmax(mnist.train.labels, 1) == 1) | \\\n",
    "             (np.argmax(mnist.train.labels, 1) == 2) | \\\n",
    "             (np.argmax(mnist.train.labels, 1) == 3) | \\\n",
    "             (np.argmax(mnist.train.labels, 1) == 4) | \\\n",
    "             (np.argmax(mnist.train.labels, 1) == 5) | \\\n",
    "             (np.argmax(mnist.train.labels, 1) == 7))\n",
    "test_idx = (np.argmax(mnist.test.labels, 1) == 0)\n",
    "\n",
    "train_imgs   = mnist.train.images[train_idx]\n",
    "train_labels = mnist.train.labels[train_idx]\n",
    "test_imgs    = mnist.test.images[test_idx]\n",
    "test_labels  = mnist.test.labels[test_idx]\n",
    "n_train      = train_imgs.shape[0]\n",
    "n_test       = test_imgs.shape[0]\n",
    "\n",
    "print (\"The number of training images : {}, shape : {}\".format(n_train, train_imgs.shape))\n",
    "print (\"The number of testing images : {}, shape : {}\".format(n_test, test_imgs.shape))"
   ]
  },
  {
   "cell_type": "markdown",
   "metadata": {},
   "source": [
    "## 3. 옵션설정"
   ]
  },
  {
   "cell_type": "code",
   "execution_count": 3,
   "metadata": {},
   "outputs": [],
   "source": [
    "learning_rate = 0.01 #최적화 함수에서 사용할 학습률\n",
    "training_epoch = 20  #전체 데이터를 학습할 총 횟수\n",
    "batch_size = 100     #미니배치로 한번에 학습할 데이터(이미지)의 갯수\n",
    "n_hidden = 256       #은닉층의 뉴런 개수\n",
    "n_input = 28*28      #이미지 크기 28*28 = 784"
   ]
  },
  {
   "cell_type": "markdown",
   "metadata": {},
   "source": [
    "## 4. 모델구성"
   ]
  },
  {
   "cell_type": "code",
   "execution_count": 4,
   "metadata": {},
   "outputs": [],
   "source": [
    "X = tf.placeholder(tf.float32, [None, n_input])\n",
    "\n",
    "#인코더\n",
    "W_encode = tf.Variable(tf.random_normal([n_input, n_hidden]))  #n_hidden개의 뉴런을 가진 은닉층 만듬\n",
    "b_encode = tf.Variable(tf.random_normal([n_hidden])) \n",
    "encoder = tf.nn.sigmoid(tf.add(tf.matmul(X,W_encode),b_encode)) #sigmoid 활성화 함수 적용\n",
    "\n",
    "#디코더 (n_input과 n_hidden을 인코더와 반대로 입력)\n",
    "W_decode = tf.Variable(tf.random_normal([n_hidden, n_input]))\n",
    "b_decode = tf.Variable(tf.random_normal([n_input]))\n",
    "decoder = tf.nn.sigmoid(tf.add(tf.matmul(encoder,W_decode),b_decode))"
   ]
  },
  {
   "cell_type": "markdown",
   "metadata": {},
   "source": [
    "## 5. 모델학습"
   ]
  },
  {
   "cell_type": "code",
   "execution_count": 5,
   "metadata": {},
   "outputs": [
    {
     "name": "stderr",
     "output_type": "stream",
     "text": [
      "W0801 15:30:01.155258 140091356112640 deprecation.py:323] From /usr/local/lib/python3.5/dist-packages/tensorflow/python/ops/math_grad.py:1205: add_dispatch_support.<locals>.wrapper (from tensorflow.python.ops.array_ops) is deprecated and will be removed in a future version.\n",
      "Instructions for updating:\n",
      "Use tf.where in 2.0, which has the same broadcast rule as np.where\n",
      "W0801 15:30:01.195735 140091356112640 deprecation.py:506] From /usr/local/lib/python3.5/dist-packages/tensorflow/python/training/rmsprop.py:119: calling Ones.__init__ (from tensorflow.python.ops.init_ops) with dtype is deprecated and will be removed in a future version.\n",
      "Instructions for updating:\n",
      "Call initializer instance with the dtype argument instead of passing it to the constructor\n"
     ]
    },
    {
     "name": "stdout",
     "output_type": "stream",
     "text": [
      "Epoct: 0001 Avg. cost =  0.2749\n",
      "Epoct: 0002 Avg. cost =  0.0754\n",
      "Epoct: 0003 Avg. cost =  0.0609\n",
      "Epoct: 0004 Avg. cost =  0.0527\n",
      "Epoct: 0005 Avg. cost =  0.0480\n",
      "Epoct: 0006 Avg. cost =  0.0432\n",
      "Epoct: 0007 Avg. cost =  0.0410\n",
      "Epoct: 0008 Avg. cost =  0.0397\n",
      "Epoct: 0009 Avg. cost =  0.0384\n",
      "Epoct: 0010 Avg. cost =  0.0359\n",
      "Epoct: 0011 Avg. cost =  0.0331\n",
      "Epoct: 0012 Avg. cost =  0.0316\n",
      "Epoct: 0013 Avg. cost =  0.0304\n",
      "Epoct: 0014 Avg. cost =  0.0298\n",
      "Epoct: 0015 Avg. cost =  0.0293\n",
      "Epoct: 0016 Avg. cost =  0.0291\n",
      "Epoct: 0017 Avg. cost =  0.0288\n",
      "Epoct: 0018 Avg. cost =  0.0284\n",
      "Epoct: 0019 Avg. cost =  0.0282\n",
      "Epoct: 0020 Avg. cost =  0.0281\n",
      "최적화 완료!\n"
     ]
    }
   ],
   "source": [
    "#손실함수(두 값의 거리차이) = X(평가하기 위한 실측값) - 디코더의 결과값\n",
    "cost = tf.reduce_mean(tf.pow(X-decoder,2))\n",
    "\n",
    "#최적화 함수\n",
    "optimizer = tf.train.RMSPropOptimizer(learning_rate).minimize(cost)\n",
    "\n",
    "#train에 해당하는 그림만을 가지고 batch할 수 있는 함수 생성\n",
    "def train_batch_maker(batch_size):\n",
    "     random_idx = np.random.randint(n_train, size = batch_size)\n",
    "     return train_imgs[random_idx], train_labels[random_idx]\n",
    "\n",
    "#학습진행\n",
    "init = tf.global_variables_initializer()\n",
    "sess = tf.Session()\n",
    "sess.run(init)\n",
    "\n",
    "total_batch = int(n_train/batch_size)\n",
    "\n",
    "for epoch in range(training_epoch):\n",
    "    total_cost = 0\n",
    "    \n",
    "    for i in range(total_batch):\n",
    "        batch_xs, batch_ys = train_batch_maker(batch_size)\n",
    "        _, cost_val = sess.run([optimizer, cost], feed_dict={X:batch_xs})\n",
    "        total_cost += cost_val\n",
    "        \n",
    "    print('Epoct:', '%04d' % (epoch + 1), 'Avg. cost = ', '{:.4f}'.format(total_cost/total_batch))\n",
    "\n",
    "print('최적화 완료!')\n"
   ]
  },
  {
   "cell_type": "markdown",
   "metadata": {},
   "source": [
    "## 6.1 Traing data 결과확인"
   ]
  },
  {
   "cell_type": "code",
   "execution_count": 6,
   "metadata": {},
   "outputs": [
    {
     "name": "stdout",
     "output_type": "stream",
     "text": [
      "Training data cost =  0.0277\n"
     ]
    },
    {
     "data": {
      "image/png": "[encoded data removed]",
      "text/plain": [
       "<Figure size 720x144 with 20 Axes>"
      ]
     },
     "metadata": {
      "needs_background": "light"
     },
     "output_type": "display_data"
    }
   ],
   "source": [
    "sample_size = 10\n",
    "samples = sess.run(decoder, feed_dict={X:train_imgs[:sample_size]})\n",
    "print('Training data cost = ', '{:.4f}'.format(sess.run(cost, feed_dict={X:train_imgs[:sample_size]})))\n",
    "\n",
    "fig, ax = plt.subplots(2, sample_size, figsize=(sample_size, 2))\n",
    "\n",
    "for i in range(sample_size):\n",
    "    ax[0][i].set_axis_off()\n",
    "    ax[1][i].set_axis_off()\n",
    "    ax[0][i].imshow(np.reshape(train_imgs[i], (28,28))) #imshow : 이미지 출력함수\n",
    "    ax[1][i].imshow(np.reshape(samples[i], (28,28)))\n",
    "\n",
    "plt.show()"
   ]
  },
  {
   "cell_type": "markdown",
   "metadata": {},
   "source": [
    "## 6.2 Testing data 결과확인"
   ]
  },
  {
   "cell_type": "code",
   "execution_count": 7,
   "metadata": {},
   "outputs": [
    {
     "name": "stdout",
     "output_type": "stream",
     "text": [
      "Testing data cost =  0.0440\n"
     ]
    },
    {
     "data": {
      "image/png": "[encoded data removed]",
      "text/plain": [
       "<Figure size 720x144 with 20 Axes>"
      ]
     },
     "metadata": {
      "needs_background": "light"
     },
     "output_type": "display_data"
    }
   ],
   "source": [
    "sample_size = 10\n",
    "ADsamples = sess.run(decoder, feed_dict={X:test_imgs[:sample_size]})\n",
    "print('Testing data cost = ', '{:.4f}'.format(sess.run(cost, feed_dict={X:test_imgs[:sample_size]})))\n",
    "\n",
    "fig, ax = plt.subplots(2, sample_size, figsize=(sample_size, 2))\n",
    "\n",
    "for i in range(sample_size):\n",
    "    ax[0][i].set_axis_off()\n",
    "    ax[1][i].set_axis_off()\n",
    "    ax[0][i].imshow(np.reshape(test_imgs[i], (28,28))) #imshow : 이미지 출력함수\n",
    "    ax[1][i].imshow(np.reshape(ADsamples[i], (28,28)))\n",
    "\n",
    "plt.show()"
   ]
  },
  {
   "cell_type": "code",
   "execution_count": null,
   "metadata": {},
   "outputs": [],
   "source": []
  }
 ],
 "metadata": {
  "kernelspec": {
   "display_name": "Python 3",
   "language": "python",
   "name": "python3"
  },
  "language_info": {
   "codemirror_mode": {
    "name": "ipython",
    "version": 3
   },
   "file_extension": ".py",
   "mimetype": "text/x-python",
   "name": "python",
   "nbconvert_exporter": "python",
   "pygments_lexer": "ipython3",
   "version": "3.5.2"
  }
 },
 "nbformat": 4,
 "nbformat_minor": 2
}
